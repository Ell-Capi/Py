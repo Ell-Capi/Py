{
 "cells": [
  {
   "cell_type": "code",
   "execution_count": 3,
   "id": "ca2e0780-f16a-483b-ad3a-3645b17c546f",
   "metadata": {},
   "outputs": [
    {
     "name": "stdout",
     "output_type": "stream",
     "text": [
      "HELLO WORLD\n"
     ]
    }
   ],
   "source": [
    "print (\"HELLO WORLD\")"
   ]
  },
  {
   "cell_type": "code",
   "execution_count": 4,
   "id": "2cc15a08-caa0-4ab4-833b-89eb0d0deca0",
   "metadata": {},
   "outputs": [
    {
     "name": "stdout",
     "output_type": "stream",
     "text": [
      "Here To Learn and Grow.\n"
     ]
    }
   ],
   "source": [
    "print(\"Here To Learn and Grow.\")"
   ]
  },
  {
   "cell_type": "code",
   "execution_count": null,
   "id": "529cb2f7-0b6f-4035-af53-702cb1625b40",
   "metadata": {},
   "outputs": [],
   "source": []
  }
 ],
 "metadata": {
  "kernelspec": {
   "display_name": "Python 3 (ipykernel)",
   "language": "python",
   "name": "python3"
  },
  "language_info": {
   "codemirror_mode": {
    "name": "ipython",
    "version": 3
   },
   "file_extension": ".py",
   "mimetype": "text/x-python",
   "name": "python",
   "nbconvert_exporter": "python",
   "pygments_lexer": "ipython3",
   "version": "3.11.7"
  }
 },
 "nbformat": 4,
 "nbformat_minor": 5
}

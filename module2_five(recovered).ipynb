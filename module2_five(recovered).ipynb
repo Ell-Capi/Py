{
 "cells": [
  {
   "cell_type": "markdown",
   "id": "0a959813",
   "metadata": {},
   "source": [
    "# Docstrings\n",
    "\n",
    "The docstring is a triple-quoted string (which may span multiple lines) that comes immediately after the header of a function. When we call help() on a user-defined function, it shows the docstring.\n",
    "It provides information about the function, that help users or readers understand te function better\n",
    "\n",
    "one best practice is providing an example on how the function will work. the examle falls with the docstring\n",
    "It is preceded by >>> signs, where an example of an argument is passed, and the results\n",
    "\n",
    "when called using the help() function on user defined functions, the docstring is returned, and the given example is also displayed."
   ]
  },
  {
   "cell_type": "code",
   "execution_count": 3,
   "id": "95a4681a",
   "metadata": {},
   "outputs": [
    {
     "name": "stdout",
     "output_type": "stream",
     "text": [
      "80.5 80.0 81.5 73.0\n",
      "\n",
      "\n",
      "\n",
      "Help on function highest_average in module __main__:\n",
      "\n",
      "highest_average(eng, swahili, maths)\n",
      "    \" The function returns the highest value calculated from avaraging values\n",
      "    >>> highest_average(98,64,48) \n",
      "        73.0\n",
      "\n"
     ]
    }
   ],
   "source": [
    "def highest_average(eng, swahili, maths):\n",
    "   # This is where the Docstring goes, just under the function header.\n",
    "    \"\"\"\" The function returns the highest value calculated from avaraging values\n",
    "        >>> highest_average(98,64,48) \n",
    "            73.0\n",
    "    \"\"\"\n",
    "    stud1 = (eng+swahili+maths)/3\n",
    "    stud2 = (eng+maths)/2\n",
    "    stud3 = (maths+swahili)/2\n",
    "    #print(stud1)\n",
    "    #print(stud2)\n",
    "    #print(stud3)\n",
    "    return max(stud1,stud2,stud3)\n",
    "\n",
    "# best_stud= highest_average(34, 65, 79)\n",
    "# print(best_stud)\n",
    "print(\n",
    "    highest_average(76, 98,63),         #python supports trailing commas in argument lists. you pass the function, with iys arguments as the arguments in the print function.\n",
    "    highest_average(70, 70, 90),         # this bypasses the need for function call, by having to initialize a new variable and calling the function.\n",
    "    highest_average(87,54,76),           #the arguments are separated by commas, just like normal arguments would\n",
    "    highest_average(98,64,48)            \n",
    ")\n",
    "\n",
    "print(\"\\n\\n\")\n",
    "\n",
    "help(highest_average)"
   ]
  },
  {
   "cell_type": "code",
   "execution_count": 5,
   "id": "f43eebeb",
   "metadata": {},
   "outputs": [
    {
     "name": "stdout",
     "output_type": "stream",
     "text": [
      "A B C D\n",
      "A/B/C/D\n",
      "A#B#C#D\n",
      "\n",
      "\n",
      "Hello Alex\n",
      "Hello Lorna\n",
      "Hello Dennis\n"
     ]
    }
   ],
   "source": [
    "# Adding of optional arguments in funtions, helps in specifying more details, above the defaukt arguments.\n",
    "\n",
    "print( \"A\", \"B\",\"C\", \"D\") # the default value for sep in the print() is space in between, i.e sep= \" \"  \n",
    "print( \"A\", \"B\",\"C\", \"D\", sep= \"/\") # the sep argument in print, overwites the defaukt sepearator value between the elements from space to the specified.\n",
    "print( \"A\", \"B\",\"C\", \"D\", sep= \"#\")\n",
    "\n",
    "print(\"\\n\")\n",
    "def greet(who=\"Alex\"):\n",
    "    print(\"Hello\", who)\n",
    "\n",
    "greet()\n",
    "greet(who = \"Lorna\")\n",
    "greet(\"Dennis\")"
   ]
  },
  {
   "cell_type": "code",
   "execution_count": 6,
   "id": "1e98c963",
   "metadata": {},
   "outputs": [
    {
     "name": "stdout",
     "output_type": "stream",
     "text": [
      "40 \n",
      "40 \n",
      "400\n"
     ]
    }
   ],
   "source": [
    "#Applying functions to other functions.\n",
    "\n",
    "#Functions can be used as arguments in other functions. \n",
    "\n",
    "def mult_by_10(x):  # defines a function that multiolies value by 10\n",
    "    \"\"\" the fuction multiplies the value passed as argument by 10\n",
    "            syntax: function_name(fn, arg):\n",
    "                        return\n",
    "    \"\"\"\n",
    "    return 10*x\n",
    "\n",
    "def opp1(fn, arg):    # uses the mult_by_10() as an argument in the opp1(). the opeartion implemented in the mult_by_10() is also brought here.\n",
    "    return fn(arg)\n",
    "\n",
    "def opp2(fn, arg):    # Uses the same as in 0pp1, but the oppeartion here is different\n",
    "    return fn(fn(arg))\n",
    "\n",
    "print(\n",
    "    mult_by_10(4),\n",
    "    opp1(mult_by_10, 4),\n",
    "    opp2(mult_by_10, 4),\n",
    "    sep = \" \\n\" )\n"
   ]
  },
  {
   "cell_type": "code",
   "execution_count": 7,
   "id": "cf1c6493",
   "metadata": {},
   "outputs": [
    {
     "name": "stdout",
     "output_type": "stream",
     "text": [
      "0.0\n",
      "6000.0\n",
      "15235000.0\n",
      "-0.0\n"
     ]
    }
   ],
   "source": [
    "# Round()\n",
    "\n",
    "def rounding(num):\n",
    "    num_rounded = round(num, -3) # rounding numbers using -1 rounds to the nearest 10, -2 rounds to the nearest 100, -3 rounds to the nearest 1000 and so on\n",
    "    return num_rounded\n",
    "\n",
    "print( rounding(6.5678),\n",
    "       rounding(5567.23568),\n",
    "       rounding(15234672.23094),\n",
    "       rounding(-8.123),\n",
    "      sep = \"\\n\"\n",
    "        )"
   ]
  },
  {
   "cell_type": "code",
   "execution_count": 8,
   "id": "e855563c",
   "metadata": {},
   "outputs": [
    {
     "name": "stdout",
     "output_type": "stream",
     "text": [
      "2\n",
      "1\n",
      "4\n"
     ]
    }
   ],
   "source": [
    "# default arguments in functions.\n",
    "def to_smash(total_candies, friends=3):   # makes use of default arguments. the friends=3 arg is the default here, if the number of friends is ot given.\n",
    "    \"\"\"Return the number of leftover candies that must be smashed after distributing\n",
    "    the given number of candies evenly between friends.\n",
    "    \n",
    "    >>> to_smash(91)\n",
    "    1\n",
    "    \"\"\"\n",
    "    return total_candies % friends\n",
    "\n",
    "print(\n",
    "    to_smash(65),\n",
    "    to_smash(91,3),\n",
    "    to_smash(34,6),\n",
    "    sep = \"\\n\"\n",
    ")\n"
   ]
  },
  {
   "cell_type": "markdown",
   "id": "af5fd136",
   "metadata": {},
   "source": [
    "# Boolians \n",
    "\n",
    "bool() turns items of any kind into booleans.\n",
    "\n",
    "print(bool(1))  ----- all numbers are treated as true, except 0. Negatives number will also be True\n",
    "    results will be True\n",
    "\n",
    "print(bool(0)\n",
    "    results will be False)\n",
    "print(bool(\"asf\")---- # all strings are treated as true, except the empty string \"   \n",
    "    results will be True\n",
    "\"\n",
    "print(bool(\"\"  ))  \n",
    "    results will be False\n",
    "\n",
    "Generally empty sequences (strings, like lists and tuples are \"falsey\" and the rest are \"truthy\""
   ]
  },
  {
   "cell_type": "code",
   "execution_count": 9,
   "id": "d26f7c15",
   "metadata": {},
   "outputs": [
    {
     "name": "stdout",
     "output_type": "stream",
     "text": [
      " A 30-year-old person is an adult? True\n",
      " A 12-year-old person is an adult? False\n",
      " Is 39 an odd number True\n",
      "True\n",
      "True\n",
      "False\n",
      "False\n",
      "True\n"
     ]
    }
   ],
   "source": [
    "def is_adult(age):\n",
    "    \"\"\" Checks if someone is above 18 years, to be considered an adult \"\"\"\n",
    "    return age >= 18\n",
    "\n",
    "print(\" A 30-year-old person is an adult?\", is_adult(30))\n",
    "print(\" A 12-year-old person is an adult?\", is_adult(12))\n",
    "\n",
    "def is_odd(num):\n",
    "    \"\"\"checks is a number is odd\"\"\"\n",
    "    return (num%2 ==1)\n",
    "    \n",
    "print(\" Is 39 an odd number\", is_odd(39))\n",
    "\n",
    "print(bool(3))\n",
    "print(bool(\"Asg\"))\n",
    "print(bool(\"\"))\n",
    "print(bool(0))\n",
    "print(bool(-34))"
   ]
  },
  {
   "cell_type": "code",
   "execution_count": 10,
   "id": "454ff50e",
   "metadata": {},
   "outputs": [
    {
     "name": "stdout",
     "output_type": "stream",
     "text": [
      "True\n",
      "False\n",
      "False\n",
      "False\n"
     ]
    }
   ],
   "source": [
    "# From Exrcise\n",
    "\n",
    "#The boolean variables ketchup, mustard and onion represent whether a customer wants a particular topping on their hot dog. \n",
    "#We want to implement a number of boolean functions that correspond to some yes-or-no questions about the customer's order\n",
    "\n",
    "def onionless(ketchup, mustard, onion):\n",
    "    \"\"\"Return whether the customer doesn't want onions.\n",
    "    \"\"\"\n",
    "    return not onion\n",
    "\n",
    "print(onionless(1,1,0))\n",
    "\n",
    "def wants_all_toppings(ketchup, mustard, onion):\n",
    "    \"\"\"Return whether the customer wants \"the works\" (all 3 toppings)\n",
    "    \"\"\"\n",
    "    return True if ketchup ==1 and mustard ==1 and onion == 1 else False\n",
    "\n",
    "print(onionless(2,3,1))\n",
    "\n",
    "def wants_plain_hotdog(ketchup, mustard, onion):\n",
    "    \"\"\"Return whether the customer wants a plain hot dog with no toppings.\n",
    "    \"\"\"\n",
    "    return True if ketchup !=1 and mustard !=1 and onion != 1 else False\n",
    "\n",
    "print(onionless(4,6,2))\n",
    "\n",
    "def exactly_one_sauce(ketchup, mustard, onion):\n",
    "    \"\"\"Return whether the customer wants either ketchup or mustard, but not both.\n",
    "    (You may be familiar with this operation under the name \"exclusive or\")\n",
    "    \"\"\"\n",
    "    return True if (ketchup==1 and mustard !=1) or (ketchup!=1 and mustard==1) else False\n",
    "\n",
    "print(onionless(2,7,4))\n"
   ]
  },
  {
   "cell_type": "code",
   "execution_count": 12,
   "id": "653c5717",
   "metadata": {},
   "outputs": [
    {
     "data": {
      "text/plain": [
       "0"
      ]
     },
     "execution_count": 12,
     "metadata": {},
     "output_type": "execute_result"
    }
   ],
   "source": [
    "int(False)\n",
    "#bool(2)"
   ]
  },
  {
   "cell_type": "markdown",
   "id": "f6671535",
   "metadata": {},
   "source": [
    "# Lists and Tuples\n",
    "# objects\n",
    "\n",
    "objects are accessed using the dot syntax..( xxxxx.yyyyyyy)\n",
    "\n",
    "Object can carry with them variables, functions, methods, \n",
    "\n",
    "Numbers have the .imag that reps their imaginary parts. Can be used with complex numbers (objects with variables. These variables are called attributes )\n",
    "\n",
    "sorted(list_name) -  sorts items of the list in alphabetical order, or sleast the largest\n",
    "sum(list_name - sum of items\n",
    "len()\n",
    "max() and min()\n",
    "\n",
    "Numbers also have the .bit_length () to show their length. (Objects with fucntions. These functions are called methods\n",
    ".bit_length() shows the number of bits needed to rep the number in binary\n",
    "\n",
    ".append()- ads an item at the end of the list\n",
    ".pop() - removes and returns the last item from the list\n",
    ".indexing(arg)- get the index of an item in list\n",
    "\n",
    "\n",
    "# Tuples\n",
    "tuples are similar to lists, with a few wxceptions.\n",
    "\n",
    "1. They are created using paranthesis and not square brackets, i.e tuples use () and not []\n",
    "2. Tuples are immutable, meaning they can't be changed\n",
    "\n",
    "Tupleas are used for objects with multiple return values eg\n",
    ".as_integer_ratio () as used with floats. It returns the numerator and denominator as tuple "
   ]
  },
  {
   "cell_type": "code",
   "execution_count": 13,
   "id": "645bc359",
   "metadata": {},
   "outputs": [
    {
     "name": "stdout",
     "output_type": "stream",
     "text": [
      "<class 'int'>\n",
      "0\n",
      "<class 'complex'>\n",
      "6.0\n",
      "6\n",
      "23\n",
      "(1, 2)\n",
      "(7075155014599049, 2251799813685248)\n"
     ]
    }
   ],
   "source": [
    "# .imag\n",
    "\n",
    "x= 45\n",
    "m=7893003\n",
    "u = 78+ 6j\n",
    "\n",
    "print(type(x))\n",
    "print(x.imag)\n",
    "print(type(u))\n",
    "print(u.imag)\n",
    "\n",
    "print(x.bit_length())\n",
    "print(m.bit_length())\n",
    "\n",
    "#tupples\n",
    "pie = 3.142\n",
    "half = 0.5\n",
    "\n",
    "print(half.as_integer_ratio())\n",
    "print(pie.as_integer_ratio())"
   ]
  },
  {
   "cell_type": "code",
   "execution_count": 14,
   "id": "3789577f",
   "metadata": {},
   "outputs": [
    {
     "name": "stdout",
     "output_type": "stream",
     "text": [
      "3\n",
      "Ben\n"
     ]
    }
   ],
   "source": [
    "#From The exercise \n",
    "\n",
    "def select_second(L):\n",
    "    if len(L) < 2:\n",
    "        return None\n",
    "    return L[1]\n",
    "L=[1,3,5,7]\n",
    "print(select_second(L))\n",
    "\n",
    "#Question  2\n",
    "#You are analyzing sports teams. Members of each team are stored in a list. \n",
    "#The Coach is the first name in the list, the captain is the second name in the list,other players are listed after that.\n",
    "#These lists are stored in another list, which starts with the best team and proceeds through the list to the worst team \n",
    "#last. Complete the function below to select the captain of the worst team.\n",
    "def losing_team_captain(teams):\n",
    "    \"\"\"Given a list of teams, where each team is a list of names, return the 2nd player (captain)\n",
    "    from the last listed team\n",
    "    \"\"\"\n",
    "    return teams[-1][1]\n",
    "\n",
    "teams = [\n",
    "    [\"Poch\"\"Alex\", \"Max\", \"Paul\", \"Raul\", \"John\"],\n",
    "    [\"Carlo\",\"Han\", \"Mark\",\"Tonny\", \"Luka\", \" Antonio\"],\n",
    "    [\"Josep\",\"Phil\",\"Kevin\", \"David\", \"Kyle\", \"Julias\"],\n",
    "    [\"Mikael\", \"Ben\", \"Leandro\",\"Gabriel\",\"Martin\", \"Thomas\"]\n",
    "]\n",
    "teams\n",
    "worst_capt = losing_team_captain(teams)\n",
    "print(worst_capt)"
   ]
  },
  {
   "cell_type": "markdown",
   "id": "32b38ede",
   "metadata": {},
   "source": [
    "# Loops\n",
    "Lops are used in execution of code in repetition.\n",
    "Theycan also be used with conditional statemets and operators\n",
    "\n",
    "# For loop\n",
    "    \n",
    "    syntax: for x in y:\n",
    "        statements\n",
    "The for loop specifies\n",
    "    the variable name to use (in this case, x)\n",
    "    the set of values to loop over (in this case, y)\n",
    "You use the word \"in\" to link them together\n",
    "\n",
    "range()\n",
    "range() is a function that returns a sequence of numbers. It turns out to be very useful for writing loops.\n",
    "range() is used where we want to specifiy the limits or upto a certain pint in code execution.\n",
    "\n",
    "# While loop\n",
    "    syntax: i = 1             # The initial value, initialised outsde the loop\n",
    "            while i<=10:      # The condition to be evalated\n",
    "                statements    # The statememts to be executed \n",
    "            i += 1            # the increament value \n",
    "            \n",
    "# List comrehensions\n"
   ]
  },
  {
   "cell_type": "code",
   "execution_count": 4,
   "id": "b810e427",
   "metadata": {
    "scrolled": false
   },
   "outputs": [
    {
     "name": "stdout",
     "output_type": "stream",
     "text": [
      "98 185 264 333 431 527 597 682 777 855 950 1026 \n",
      "\n",
      "98\n",
      "8526\n",
      "673554\n",
      "46475226\n",
      "4554572148\n",
      "437238926208\n",
      "30606724834560\n",
      "2601571610937600\n",
      "247149303039072000\n",
      "19277645637047616000\n",
      "1831376335519523520000\n",
      "139184601499483787520000\n",
      "\n",
      "\n",
      "This is the 1 operation\n",
      "This is the 2 operation\n",
      "This is the 3 operation\n",
      "This is the 4 operation\n",
      "This is the 5 operation\n",
      "This is the 6 operation\n",
      "This is the 7 operation\n"
     ]
    }
   ],
   "source": [
    "marks = [98,87,79,69,98,96,70,85,95,78,95,76,]\n",
    "total = 0\n",
    "for score in marks:\n",
    "    total += score\n",
    "    print(total, end= \" \") # end= \" \" is used to print them on the same line, otherwise, each would appear on its own line\n",
    "print(\"\\n\")\n",
    "\n",
    "product = 1\n",
    "for score in marks:\n",
    "    product *= score\n",
    "    print(product)\n",
    "print(\"\\n\")\n",
    "\n",
    "for i in range(7):\n",
    "    print(\"This is the\", i+1, \"operation\")\n",
    "    \n",
    "#While loop\n",
    "\n",
    "#r=1\n",
    "#while r <= 10:\n",
    "#    print(\"This is the\", r ,\"operation\")\n",
    "#    r += 1"
   ]
  },
  {
   "cell_type": "code",
   "execution_count": 27,
   "id": "0fa198cf",
   "metadata": {},
   "outputs": [
    {
     "name": "stdout",
     "output_type": "stream",
     "text": [
      "These are graded as A: [98, 98, 96, 95, 95]\n",
      "\n",
      "\n",
      "[0, 1, 2, 3, 4, 5] "
     ]
    }
   ],
   "source": [
    "# List comprehensions\n",
    "\n",
    "marks = [98,87,79,69,98,96,70,85,95,78,95,76,]\n",
    "\n",
    "squares = [num**2 for num in range(5)]\n",
    "squares\n",
    "\n",
    "grade_A = [grade for grade in marks if grade >= 90] # can use an if statement as well\n",
    "print(\"These are graded as A:\", grade_A)\n",
    "grade_A\n",
    "\n",
    "print(\"\\n\")\n",
    "lower = [num for num in range(10) if num<=5]\n",
    "print(lower, end=\" \")"
   ]
  },
  {
   "cell_type": "code",
   "execution_count": 74,
   "id": "7441b904",
   "metadata": {},
   "outputs": [
    {
     "name": "stdout",
     "output_type": "stream",
     "text": [
      "There are 7 negative numbers\n"
     ]
    }
   ],
   "source": [
    "def count_negatives(numbers):\n",
    "    \"\"\"Return the number of negative numbers in the given list.\n",
    "    \n",
    "    >>> count_negatives([5, -1, -2, 0, 3])\n",
    "    2\n",
    "    \"\"\"\n",
    "\n",
    "    total_negatives=0\n",
    "    for num in numbers:\n",
    "           if num < 0:\n",
    "            total_negatives += 1\n",
    "       \n",
    "    print(\"There are\", total_negatives, \"negative numbers\")\n",
    "\n",
    "numbers= [9,5,-5,-6,2,9,0,-1,-2,7,-9,-8,-7]\n",
    "\n",
    "count_negatives(numbers)\n",
    "\n"
   ]
  },
  {
   "cell_type": "code",
   "execution_count": 72,
   "id": "5d12b4bb",
   "metadata": {},
   "outputs": [
    {
     "name": "stdout",
     "output_type": "stream",
     "text": [
      "6\n",
      "[-1, -2, -3, -4, -7, -9]\n"
     ]
    }
   ],
   "source": [
    "def count_negs(numberss):\n",
    "    negs=[num for num in numberss if num<0]\n",
    "    print(len(negs))\n",
    "    print(negs)\n",
    "    \n",
    "numberss=[-1,-2,1,2,-3,-4,5,6,-7,8,-9]\n",
    "count_negs(numberss)"
   ]
  },
  {
   "cell_type": "code",
   "execution_count": null,
   "id": "c1005686",
   "metadata": {},
   "outputs": [],
   "source": []
  },
  {
   "cell_type": "code",
   "execution_count": null,
   "id": "b372ded5",
   "metadata": {},
   "outputs": [],
   "source": []
  },
  {
   "cell_type": "code",
   "execution_count": null,
   "id": "d8322f4b",
   "metadata": {},
   "outputs": [],
   "source": []
  },
  {
   "cell_type": "code",
   "execution_count": null,
   "id": "a488cf1f",
   "metadata": {},
   "outputs": [],
   "source": []
  },
  {
   "cell_type": "code",
   "execution_count": null,
   "id": "9e25eab1",
   "metadata": {},
   "outputs": [],
   "source": []
  },
  {
   "cell_type": "code",
   "execution_count": null,
   "id": "ca47453d",
   "metadata": {},
   "outputs": [],
   "source": []
  },
  {
   "cell_type": "code",
   "execution_count": null,
   "id": "52367158",
   "metadata": {},
   "outputs": [],
   "source": []
  },
  {
   "cell_type": "code",
   "execution_count": null,
   "id": "87a5b8da",
   "metadata": {},
   "outputs": [],
   "source": []
  },
  {
   "cell_type": "code",
   "execution_count": null,
   "id": "b7194095",
   "metadata": {},
   "outputs": [],
   "source": []
  },
  {
   "cell_type": "code",
   "execution_count": null,
   "id": "b2bd3054",
   "metadata": {},
   "outputs": [],
   "source": []
  },
  {
   "cell_type": "code",
   "execution_count": null,
   "id": "be5112e5",
   "metadata": {},
   "outputs": [],
   "source": []
  },
  {
   "cell_type": "code",
   "execution_count": null,
   "id": "7b927082",
   "metadata": {},
   "outputs": [],
   "source": []
  },
  {
   "cell_type": "code",
   "execution_count": null,
   "id": "4f8545e7",
   "metadata": {},
   "outputs": [],
   "source": []
  },
  {
   "cell_type": "code",
   "execution_count": null,
   "id": "96647e94",
   "metadata": {},
   "outputs": [],
   "source": []
  },
  {
   "cell_type": "code",
   "execution_count": null,
   "id": "859d489b",
   "metadata": {},
   "outputs": [],
   "source": []
  },
  {
   "cell_type": "code",
   "execution_count": null,
   "id": "2fa3faf3",
   "metadata": {},
   "outputs": [],
   "source": []
  },
  {
   "cell_type": "code",
   "execution_count": null,
   "id": "0f7f8e8b",
   "metadata": {},
   "outputs": [],
   "source": []
  },
  {
   "cell_type": "code",
   "execution_count": null,
   "id": "9a46d0a3",
   "metadata": {},
   "outputs": [],
   "source": []
  },
  {
   "cell_type": "code",
   "execution_count": null,
   "id": "fbe745ef",
   "metadata": {},
   "outputs": [],
   "source": []
  },
  {
   "cell_type": "code",
   "execution_count": null,
   "id": "44f56a99",
   "metadata": {},
   "outputs": [],
   "source": []
  },
  {
   "cell_type": "code",
   "execution_count": null,
   "id": "03d7973e",
   "metadata": {},
   "outputs": [],
   "source": []
  }
 ],
 "metadata": {
  "kernelspec": {
   "display_name": "Python 3 (ipykernel)",
   "language": "python",
   "name": "python3"
  },
  "language_info": {
   "codemirror_mode": {
    "name": "ipython",
    "version": 3
   },
   "file_extension": ".py",
   "mimetype": "text/x-python",
   "name": "python",
   "nbconvert_exporter": "python",
   "pygments_lexer": "ipython3",
   "version": "3.11.7"
  }
 },
 "nbformat": 4,
 "nbformat_minor": 5
}

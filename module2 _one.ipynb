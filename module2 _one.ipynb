{
 "cells": [
  {
   "cell_type": "code",
   "execution_count": 3,
   "id": "8557ae66-dd97-4297-981f-8a8f571b62d4",
   "metadata": {},
   "outputs": [
    {
     "name": "stdout",
     "output_type": "stream",
     "text": [
      "Help on built-in function round in module builtins:\n",
      "\n",
      "round(number, ndigits=None)\n",
      "    Round a number to a given precision in decimal digits.\n",
      "    \n",
      "    The return value is an integer if ndigits is omitted or None.  Otherwise\n",
      "    the return value has the same type as the number.  ndigits may be negative.\n",
      "\n",
      "Help on built-in function print in module builtins:\n",
      "\n",
      "print(*args, sep=' ', end='\\n', file=None, flush=False)\n",
      "    Prints the values to a stream, or to sys.stdout by default.\n",
      "    \n",
      "    sep\n",
      "      string inserted between values, default a space.\n",
      "    end\n",
      "      string appended after the last value, default a newline.\n",
      "    file\n",
      "      a file-like object (stream); defaults to the current sys.stdout.\n",
      "    flush\n",
      "      whether to forcibly flush the stream.\n",
      "\n"
     ]
    }
   ],
   "source": [
    "# Help () function\n",
    "\n",
    "help(round )   # seeking help on a prticular function. Give details on the function header, its parameters and a brief english explanation.\n",
    "help(print)"
   ]
  },
  {
   "cell_type": "code",
   "execution_count": 15,
   "id": "ac492cf9-c120-4343-abc8-e2fcc3a55d84",
   "metadata": {},
   "outputs": [
    {
     "name": "stdout",
     "output_type": "stream",
     "text": [
      "80.5 80.0 81.5 73.0\n"
     ]
    }
   ],
   "source": [
    "def highest_average(eng, swahili, maths):\n",
    "    stud1 = (eng+swahili+maths)/3\n",
    "    stud2 = (eng+maths)/2\n",
    "    stud3 = (maths+swahili)/2\n",
    "    #print(stud1)\n",
    "    #print(stud2)\n",
    "    #print(stud3)\n",
    "    return max(stud1,stud2,stud3)\n",
    "\n",
    "# best_stud= highest_average(34, 65, 79)\n",
    "# print(best_stud)\n",
    "print(\n",
    "    highest_average(76, 98,63),         #python supports trailing commas in argument lists. you pass the function, with iys arguments as the arguments in the print function.\n",
    "    highest_average(70, 70, 90),         # this bypasses the need for function call, by having to initialize a new variable and calling the function.\n",
    "    highest_average(87,54,76),           #the arguments are separated by commas, just like normal arguments would\n",
    "    highest_average(98,64,48)            \n",
    ")"
   ]
  },
  {
   "cell_type": "markdown",
   "id": "127ca894-7fb8-41a2-9ca6-e211bd13a18b",
   "metadata": {},
   "source": [
    "#Docstrings\n",
    "\n",
    "The docstring is a triple-quoted string (which may span multiple lines) that comes immediately after the header of a function. When we call help() on a user-defined function, it shows the docstring.\n",
    "It provides information about the function, that help users or readers understand te function better\n",
    "\n",
    "one best practice is providing an example on how the function will work. the examle falls with the docstring\n",
    "It is preceded by >>> signs, where an example of an argument is passed, and the results\n",
    "\n",
    "when called using the help() function on user defined functions, the docstring is returned, and the given example is also displayed."
   ]
  },
  {
   "cell_type": "code",
   "execution_count": 20,
   "id": "eff5ffdc-4097-4167-873a-508d4c31dbdc",
   "metadata": {},
   "outputs": [
    {
     "name": "stdout",
     "output_type": "stream",
     "text": [
      "80.5 80.0 81.5 73.0\n",
      "\n",
      "\n",
      "\n",
      "Help on function highest_average in module __main__:\n",
      "\n",
      "highest_average(eng, swahili, maths)\n",
      "    \" The function returns the highest value calculated from avaraging values\n",
      "    >>> highest_average(98,64,48) \n",
      "        73.0\n",
      "\n"
     ]
    }
   ],
   "source": [
    "def highest_average(eng, swahili, maths):\n",
    "   # This is where the Docstring goes, just under the function header.\n",
    "    \"\"\"\" The function returns the highest value calculated from avaraging values\n",
    "        >>> highest_average(98,64,48) \n",
    "            73.0\n",
    "    \"\"\"\n",
    "    stud1 = (eng+swahili+maths)/3\n",
    "    stud2 = (eng+maths)/2\n",
    "    stud3 = (maths+swahili)/2\n",
    "    #print(stud1)\n",
    "    #print(stud2)\n",
    "    #print(stud3)\n",
    "    return max(stud1,stud2,stud3)\n",
    "\n",
    "# best_stud= highest_average(34, 65, 79)\n",
    "# print(best_stud)\n",
    "print(\n",
    "    highest_average(76, 98,63),         #python supports trailing commas in argument lists. you pass the function, with iys arguments as the arguments in the print function.\n",
    "    highest_average(70, 70, 90),         # this bypasses the need for function call, by having to initialize a new variable and calling the function.\n",
    "    highest_average(87,54,76),           #the arguments are separated by commas, just like normal arguments would\n",
    "    highest_average(98,64,48)            \n",
    ")\n",
    "\n",
    "print(\"\\n\\n\")\n",
    "help(highest_average)"
   ]
  },
  {
   "cell_type": "code",
   "execution_count": null,
   "id": "596878d4-1823-43bb-a69b-68cef6e3df95",
   "metadata": {},
   "outputs": [],
   "source": []
  },
  {
   "cell_type": "code",
   "execution_count": null,
   "id": "af065416-5344-441a-8a97-7b65d11d8511",
   "metadata": {},
   "outputs": [],
   "source": []
  }
 ],
 "metadata": {
  "kernelspec": {
   "display_name": "Python 3 (ipykernel)",
   "language": "python",
   "name": "python3"
  },
  "language_info": {
   "codemirror_mode": {
    "name": "ipython",
    "version": 3
   },
   "file_extension": ".py",
   "mimetype": "text/x-python",
   "name": "python",
   "nbconvert_exporter": "python",
   "pygments_lexer": "ipython3",
   "version": "3.11.7"
  }
 },
 "nbformat": 4,
 "nbformat_minor": 5
}

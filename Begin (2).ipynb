{
 "cells": [
  {
   "cell_type": "markdown",
   "id": "8bcb900d-2a83-48f1-9fa3-1731422e253e",
   "metadata": {},
   "source": [
    "print (\"HELLO WORLD\")"
   ]
  },
  {
   "cell_type": "code",
   "execution_count": 4,
   "id": "2cc15a08-caa0-4ab4-833b-89eb0d0deca0",
   "metadata": {},
   "outputs": [
    {
     "name": "stdout",
     "output_type": "stream",
     "text": [
      "Here To Learn and Grow.\n"
     ]
    }
   ],
   "source": [
    "print(\"Here To Learn and Grow.\")"
   ]
  },
  {
   "cell_type": "markdown",
   "id": "a93cadd3-b6d8-4f37-af4b-9d364dd8307e",
   "metadata": {},
   "source": [
    "# THURSDAY 11/04/24\n"
   ]
  },
  {
   "cell_type": "code",
   "execution_count": 25,
   "id": "d1601478-effa-4ef5-8b6f-558a7c4011c9",
   "metadata": {},
   "outputs": [
    {
     "name": "stdout",
     "output_type": "stream",
     "text": [
      "New Day Here\n",
      "testvar= 13 and it is an odd number\n",
      "9\n",
      "11\n",
      "5\n"
     ]
    }
   ],
   "source": [
    "# Arithmetics\n",
    "\n",
    "print (\"New Day Here\") \n",
    "x= 4+5\n",
    "#testvar= 9+4\n",
    "print( \"testvar=\", testvar, \"and it is an odd number\")\n",
    "print(x)\n",
    "print(5+6) \n",
    "print(9-4)"
   ]
  },
  {
   "cell_type": "code",
   "execution_count": 39,
   "id": "cbcf9da5-14a0-4d23-9786-5d193757c981",
   "metadata": {},
   "outputs": [
    {
     "name": "stdout",
     "output_type": "stream",
     "text": [
      "45\n",
      "wages recieved are  528.0\n"
     ]
    }
   ],
   "source": [
    "#Working with functions\n",
    "\n",
    "def numb(age, years):\n",
    "    new_age = age + years\n",
    "    #previous_age = age-years\n",
    "    return new_age\n",
    "\n",
    "current_age = numb( 40, 5)\n",
    "print( current_age)\n",
    "\n",
    "#Say you are helping a friend to calculate their weekly paycheck after taxes.\n",
    "    #They're in a 12% tax bracket (in other words, 12% of their salary is taken for taxes, and they only take home 88%), and\n",
    "    #They're paid hourly, at a rate of $15/hour\n",
    "\n",
    "def pay(hours_worked):\n",
    "    gross_pay= hours_worked * 15  # calculates the amount before tax\n",
    "    tax_payable= (gross_pay * .12) # the tax to be deducted from the pay, after a 12% cut\n",
    "    net_pay= gross_pay -  tax_payable\n",
    "    return net_pay\n",
    "    return hours_worked\n",
    "wages= pay(40)\n",
    "print(\"wages recieved are \", wages)\n",
    "\n",
    "    "
   ]
  },
  {
   "cell_type": "markdown",
   "id": "2c018f01-b685-427d-a850-0a5dc5ddcd4e",
   "metadata": {},
   "source": [
    "EXERCISE FROM KAGGLE\n",
    "\n",
    "QUESTION 1.\n",
    "Use information like the number of bedrooms and bathrooms to predict the price of a house. Inspired by this competition, you'll write your own function to do this.\n",
    "    # In the next code cell, create a function expected_cost() that has two arguments:\n",
    "    # beds - number of bedrooms\n",
    "    # baths - number of bathrooms\n",
    "    #It should return the expected cost of a house with that number of bedrooms and bathrooms. Assume that:\n",
    "\n",
    "    #the expected cost for a house with 0 bedrooms and 0 bathrooms is 80000.\n",
    "    #each bedroom adds 30000 to the expected cost\n",
    "    #each bathroom adds 10000 to the expected cost.\n",
    "\n"
   ]
  },
  {
   "cell_type": "code",
   "execution_count": null,
   "id": "f7236d24-7d7a-4bcd-ae8d-330caccdf3b8",
   "metadata": {},
   "outputs": [],
   "source": [
    "def expected_cost(beds, baths):\n",
    "    bedroom_cost= beds*30000\n",
    "    bathroom_cost= baths*10000\n",
    "    total_cost= 80000 + bedroom_cost + bathroom_cost\n",
    "    return total_cost\n",
    "house_cost= expected_cost(1,1)\n",
    "print(house_cost)"
   ]
  },
  {
   "cell_type": "markdown",
   "id": "5c4b9560-9f4f-4732-bb62-d49babcd7b51",
   "metadata": {},
   "source": [
    "Question 2\r\n",
    "You are thinking about buying a home and want to get an idea of how much you will spend, based on the number of bedrooms and bathrooms. You are trying to decide between four different options:\r\n",
    "\r\n",
    "Option 1: house with two bedrooms and three bathrooms\r\n",
    "Option 2: house with three bedrooms and two bathrooms\r\n",
    "Option 3: house with three bedrooms and three bathrooms\r\n",
    "Option 4: house with three bedrooms and four bathrooms"
   ]
  },
  {
   "cell_type": "code",
   "execution_count": 41,
   "id": "7f8a34b8-dc51-4c7a-9fa2-567649298e84",
   "metadata": {},
   "outputs": [
    {
     "name": "stdout",
     "output_type": "stream",
     "text": [
      "170000\n",
      "190000\n",
      "200000\n",
      "210000\n"
     ]
    }
   ],
   "source": [
    "#call the expected_cost() and use the parameters by the optionsto get the costs\n",
    "\n",
    "option_one= expected_cost(2,3)\n",
    "option_two= expected_cost(3,2)\n",
    "option_three= expected_cost(3,3)\n",
    "option_four= expected_cost(3,4)\n",
    "\n",
    "print(option_one)\n",
    "print(option_two)\n",
    "print(option_three)\n",
    "print(option_four)"
   ]
  },
  {
   "cell_type": "markdown",
   "id": "00119b9a-9d31-43c3-b5c7-50b6090c5a05",
   "metadata": {},
   "source": [
    "Question 3\n",
    "You're a home decorator, and you'd like to use Python to streamline some of your work. Specifically, you're creating a tool that you intend to use to calculate the cost of painting a room.\r\n",
    "\r\n",
    "As a first step, define a function get_cost() that takes as input:\r\n",
    "\r\n",
    "sqft_walls = total square feet of walls to be painted\r\n",
    "sqft_ceiling = square feet of ceiling to be painted\r\n",
    "sqft_per_gallon = number of square feet that you can cover with one gallon of paint\r\n",
    "cost_per_gallon = cost (in dollars) of one gallon of paint\r\n",
    "It should return the cost (in dollars) of putting one coat of paint on all walls and the ceiling. Assume you can buy the exact amount of paint that you need, so you can buy partial gallons (e.g., if you need 7.523 gallons, you can buy that exact amount, instead of needing to buy 8 gallons and waste some paint). Do not round your answer."
   ]
  },
  {
   "cell_type": "code",
   "execution_count": 45,
   "id": "347661f1-9e99-481f-a9bd-5360c4e8fcd9",
   "metadata": {},
   "outputs": [
    {
     "name": "stdout",
     "output_type": "stream",
     "text": [
      "Cost of decosration is  20.0\n"
     ]
    }
   ],
   "source": [
    "def get_cost( sqft_walls, sqft_ceiling, sqft_per_gallon, cost_per_gallon):\n",
    "    paint_needed= ((sqft_walls + sqft_ceiling)/ sqft_per_gallon)\n",
    "    cost_of_paint= paint_needed * cost_per_gallon\n",
    "    return cost_of_paint\n",
    "# trial\n",
    "dec_cost= get_cost(100, 100,200, 20)\n",
    "print(\"Cost of decosration is \",dec_cost)"
   ]
  },
  {
   "cell_type": "markdown",
   "id": "48eb8a71-f8e3-4134-b545-f0ed2bbb7123",
   "metadata": {},
   "source": [
    "QUESTION 4\n",
    "Use the get_cost() function you defined in Question 3 to calculate the cost of applying one coat of paint to a room with:\r\n",
    "\r\n",
    "432 square feet of walls, and\r\n",
    "144 square feet of ceiling.\r\n",
    "Assume that one gallon of paint covers 400 square feet and costs $15. As in Question 3, assume you can buy partial gallons of paint. Do not round your answer."
   ]
  },
  {
   "cell_type": "code",
   "execution_count": 47,
   "id": "efcae180-0e02-437c-9957-f607ee8a5ca5",
   "metadata": {},
   "outputs": [
    {
     "name": "stdout",
     "output_type": "stream",
     "text": [
      "The cost of project decoration will be 21.599999999999998\n"
     ]
    }
   ],
   "source": [
    "dec_cost=get_cost(432, 144, 400, 15)\n",
    "print(\"The cost of project decoration will be\", dec_cost)"
   ]
  },
  {
   "cell_type": "markdown",
   "id": "1867c3a5-a162-4f44-bddf-dbf364f374d6",
   "metadata": {},
   "source": [
    "QUESTION 5\n",
    "Use the next code cell to define the function actual_cost(). You'll need to use the math.ceil() function to do this."
   ]
  },
  {
   "cell_type": "code",
   "execution_count": 56,
   "id": "ca96f915-23ed-464e-9099-5a697d0f3460",
   "metadata": {},
   "outputs": [
    {
     "name": "stdout",
     "output_type": "stream",
     "text": [
      "The total project cost will be:  30\n"
     ]
    }
   ],
   "source": [
    "import math as math      #to use the ceil(), need to import the math lib. \n",
    "\n",
    "def get_actual_cost(sqft_walls, sqft_ceiling, sqft_per_gallon, cost_per_gallon):\n",
    "    gallons_needed= (sqft_walls + sqft_ceiling) / sqft_per_gallon\n",
    "    gallons_cost= math.ceil(gallons_needed)*cost_per_gallon\n",
    "    final_cost= gallons_cost\n",
    "    return final_cost\n",
    "    \n",
    "project_cost= get_actual_cost(432,144, 400, 15)\n",
    "print(\"The total project cost will be: \", project_cost)\n",
    "\n"
   ]
  },
  {
   "cell_type": "code",
   "execution_count": null,
   "id": "dc99cc37-085a-4842-9c9c-e356c06c890a",
   "metadata": {},
   "outputs": [],
   "source": []
  }
 ],
 "metadata": {
  "kernelspec": {
   "display_name": "Python 3 (ipykernel)",
   "language": "python",
   "name": "python3"
  },
  "language_info": {
   "codemirror_mode": {
    "name": "ipython",
    "version": 3
   },
   "file_extension": ".py",
   "mimetype": "text/x-python",
   "name": "python",
   "nbconvert_exporter": "python",
   "pygments_lexer": "ipython3",
   "version": "3.11.7"
  }
 },
 "nbformat": 4,
 "nbformat_minor": 5
}

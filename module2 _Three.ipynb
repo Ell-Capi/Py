{
 "cells": [
  {
   "cell_type": "code",
   "execution_count": 3,
   "id": "8557ae66-dd97-4297-981f-8a8f571b62d4",
   "metadata": {},
   "outputs": [
    {
     "name": "stdout",
     "output_type": "stream",
     "text": [
      "Help on built-in function round in module builtins:\n",
      "\n",
      "round(number, ndigits=None)\n",
      "    Round a number to a given precision in decimal digits.\n",
      "    \n",
      "    The return value is an integer if ndigits is omitted or None.  Otherwise\n",
      "    the return value has the same type as the number.  ndigits may be negative.\n",
      "\n",
      "Help on built-in function print in module builtins:\n",
      "\n",
      "print(*args, sep=' ', end='\\n', file=None, flush=False)\n",
      "    Prints the values to a stream, or to sys.stdout by default.\n",
      "    \n",
      "    sep\n",
      "      string inserted between values, default a space.\n",
      "    end\n",
      "      string appended after the last value, default a newline.\n",
      "    file\n",
      "      a file-like object (stream); defaults to the current sys.stdout.\n",
      "    flush\n",
      "      whether to forcibly flush the stream.\n",
      "\n"
     ]
    }
   ],
   "source": [
    "# Help () function\n",
    "\n",
    "help(round )   # seeking help on a prticular function. Give details on the function header, its parameters and a brief english explanation.\n",
    "help(print)"
   ]
  },
  {
   "cell_type": "code",
   "execution_count": 15,
   "id": "ac492cf9-c120-4343-abc8-e2fcc3a55d84",
   "metadata": {},
   "outputs": [
    {
     "name": "stdout",
     "output_type": "stream",
     "text": [
      "80.5 80.0 81.5 73.0\n"
     ]
    }
   ],
   "source": [
    "def highest_average(eng, swahili, maths):\n",
    "    stud1 = (eng+swahili+maths)/3\n",
    "    stud2 = (eng+maths)/2\n",
    "    stud3 = (maths+swahili)/2\n",
    "    #print(stud1)\n",
    "    #print(stud2)\n",
    "    #print(stud3)\n",
    "    return max(stud1,stud2,stud3)\n",
    "\n",
    "# best_stud= highest_average(34, 65, 79)\n",
    "# print(best_stud)\n",
    "print(\n",
    "    highest_average(76, 98,63),         #python supports trailing commas in argument lists. you pass the function, with iys arguments as the arguments in the print function.\n",
    "    highest_average(70, 70, 90),         # this bypasses the need for function call, by having to initialize a new variable and calling the function.\n",
    "    highest_average(87,54,76),           #the arguments are separated by commas, just like normal arguments would\n",
    "    highest_average(98,64,48)            \n",
    ")"
   ]
  },
  {
   "cell_type": "markdown",
   "id": "127ca894-7fb8-41a2-9ca6-e211bd13a18b",
   "metadata": {},
   "source": [
    "#Docstrings\n",
    "\n",
    "The docstring is a triple-quoted string (which may span multiple lines) that comes immediately after the header of a function. When we call help() on a user-defined function, it shows the docstring.\n",
    "It provides information about the function, that help users or readers understand te function better\n",
    "\n",
    "one best practice is providing an example on how the function will work. the examle falls with the docstring\n",
    "It is preceded by >>> signs, where an example of an argument is passed, and the results\n",
    "\n",
    "when called using the help() function on user defined functions, the docstring is returned, and the given example is also displayed."
   ]
  },
  {
   "cell_type": "code",
   "execution_count": 20,
   "id": "eff5ffdc-4097-4167-873a-508d4c31dbdc",
   "metadata": {},
   "outputs": [
    {
     "name": "stdout",
     "output_type": "stream",
     "text": [
      "80.5 80.0 81.5 73.0\n",
      "\n",
      "\n",
      "\n",
      "Help on function highest_average in module __main__:\n",
      "\n",
      "highest_average(eng, swahili, maths)\n",
      "    \" The function returns the highest value calculated from avaraging values\n",
      "    >>> highest_average(98,64,48) \n",
      "        73.0\n",
      "\n"
     ]
    }
   ],
   "source": [
    "def highest_average(eng, swahili, maths):\n",
    "   # This is where the Docstring goes, just under the function header.\n",
    "    \"\"\"\" The function returns the highest value calculated from avaraging values\n",
    "        >>> highest_average(98,64,48) \n",
    "            73.0\n",
    "    \"\"\"\n",
    "    stud1 = (eng+swahili+maths)/3\n",
    "    stud2 = (eng+maths)/2\n",
    "    stud3 = (maths+swahili)/2\n",
    "    #print(stud1)\n",
    "    #print(stud2)\n",
    "    #print(stud3)\n",
    "    return max(stud1,stud2,stud3)\n",
    "\n",
    "# best_stud= highest_average(34, 65, 79)\n",
    "# print(best_stud)\n",
    "print(\n",
    "    highest_average(76, 98,63),         #python supports trailing commas in argument lists. you pass the function, with iys arguments as the arguments in the print function.\n",
    "    highest_average(70, 70, 90),         # this bypasses the need for function call, by having to initialize a new variable and calling the function.\n",
    "    highest_average(87,54,76),           #the arguments are separated by commas, just like normal arguments would\n",
    "    highest_average(98,64,48)            \n",
    ")\n",
    "\n",
    "print(\"\\n\\n\")\n",
    "help(highest_average)"
   ]
  },
  {
   "cell_type": "code",
   "execution_count": 17,
   "id": "596878d4-1823-43bb-a69b-68cef6e3df95",
   "metadata": {},
   "outputs": [
    {
     "name": "stdout",
     "output_type": "stream",
     "text": [
      "A B C D\n",
      "A/B/C/D\n",
      "A#B#C#D\n",
      "Hello Alex\n",
      "Hello Lorna\n",
      "Hello Dennis\n"
     ]
    }
   ],
   "source": [
    "# Adding of optional arguments in funtions, helps in specifying more details, above the defaukt arguments.\n",
    "\n",
    "print( \"A\", \"B\",\"C\", \"D\") # the default value for sep in the print() is space in between, i.e sep= \" \"  \n",
    "print( \"A\", \"B\",\"C\", \"D\", sep= \"/\") # the sep argument in print, overwites the defaukt sepearator value between the elements from space to the specified.\n",
    "print( \"A\", \"B\",\"C\", \"D\", sep= \"#\")\n",
    "\n",
    "def greet(who=\"Alex\"):\n",
    "    print(\"Hello\", who)\n",
    "\n",
    "greet()\n",
    "greet(who = \"Lorna\")\n",
    "greet(\"Dennis\")"
   ]
  },
  {
   "cell_type": "code",
   "execution_count": 23,
   "id": "af065416-5344-441a-8a97-7b65d11d8511",
   "metadata": {},
   "outputs": [
    {
     "name": "stdout",
     "output_type": "stream",
     "text": [
      "40 \n",
      "40 \n",
      "400\n"
     ]
    }
   ],
   "source": [
    "#Applying functions to other functions.\n",
    "\n",
    "#Functions can be used as arguments in other functions. \n",
    "\n",
    "def mult_by_10(x):  # defines a function that multiolies value by 10\n",
    "    \"\"\" the fuction multiplies the value passed as argument by 10\n",
    "            syntax: function_name(fn, arg:\n",
    "                        return\n",
    "    \"\"\"\n",
    "    return 10*x\n",
    "\n",
    "def opp1(fn, arg):    # uses the mult_by_10() as an argument in the opp1(). the opeartion implemented in the mult_by_10() is also brought here.\n",
    "    return fn(arg)\n",
    "\n",
    "def opp2(fn, arg):    # Uses the same as in 0pp1, but the oppeartion here is different\n",
    "    return fn(fn(arg))\n",
    "\n",
    "print(\n",
    "    mult_by_10(4),\n",
    "    opp1(mult_by_10, 4),\n",
    "    opp2(mult_by_10, 4),\n",
    "    sep = \" \\n\" )\n",
    "\n",
    "\n",
    "\n"
   ]
  },
  {
   "cell_type": "code",
   "execution_count": 29,
   "id": "7b37febd-3100-4c0f-830e-2186d08ed16f",
   "metadata": {},
   "outputs": [
    {
     "name": "stdout",
     "output_type": "stream",
     "text": [
      "0.0\n",
      "6000.0\n",
      "15235000.0\n",
      "-0.0\n"
     ]
    }
   ],
   "source": [
    "# Round()\n",
    "\n",
    "def rounding(num):\n",
    "    num_rounded = round(num, -3) # rounding numbers using -1 rounds to the nearest 10, -2 rounds to the nearest 100, -3 rounds to the nearest 1000 and so on\n",
    "    return num_rounded\n",
    "\n",
    "print( rounding(6.5678),\n",
    "       rounding(5567.23568),\n",
    "       rounding(15234672.23094),\n",
    "       rounding(-8.123),\n",
    "      sep = \"\\n\"\n",
    "        )"
   ]
  },
  {
   "cell_type": "code",
   "execution_count": 42,
   "id": "b025d13c-c250-4d02-9c43-e922712d7ae9",
   "metadata": {},
   "outputs": [
    {
     "name": "stdout",
     "output_type": "stream",
     "text": [
      "2\n",
      "1\n",
      "4\n"
     ]
    }
   ],
   "source": [
    "# default arguments in functions.\n",
    "def to_smash(total_candies, friends=3):   # makes use of default arguments. the friends=3 arg is the default here, if the number of friends is ot given.\n",
    "    \"\"\"Return the number of leftover candies that must be smashed after distributing\n",
    "    the given number of candies evenly between friends.\n",
    "    \n",
    "    >>> to_smash(91)\n",
    "    1\n",
    "    \"\"\"\n",
    "    return total_candies % friends\n",
    "\n",
    "print(\n",
    "    to_smash(65),\n",
    "    to_smash(91,3),\n",
    "    to_smash(34,6),\n",
    "    sep = \"\\n\"\n",
    ")\n"
   ]
  },
  {
   "cell_type": "markdown",
   "id": "6210262e-ba42-407f-a506-d9a604d012d3",
   "metadata": {},
   "source": [
    "# Boolians \n",
    "\n",
    "# bool() turns items of any kind into booleans.\n",
    "\n",
    "print(bool(1))  ----- all numbers are treated as true, except 0. Negatives number will also be True\r",
    "    results will be True\n",
    "\n",
    "print(bool(0)\n",
    "    results will be False)\r\n",
    "print(bool(\"asf\")---- # all strings are treated as true, except the empty string \"    results will be True\n",
    "\"\r\n",
    "print(bool(\"\"    results will be False\n",
    "\r\n",
    "# Generally empty sequences (strings, li ike lists and tupl)\r\n",
    "# are \"falsey\" and the rest are \"truthy\""
   ]
  },
  {
   "cell_type": "code",
   "execution_count": 20,
   "id": "f38b360c-952c-4b29-820d-1b77fabba26f",
   "metadata": {},
   "outputs": [
    {
     "name": "stdout",
     "output_type": "stream",
     "text": [
      " A 30-year-old person is an adult? True\n",
      " A 12-year-old person is an adult? False\n",
      " Is 39 an odd number True\n",
      "True\n",
      "True\n",
      "False\n",
      "False\n",
      "True\n"
     ]
    }
   ],
   "source": [
    "def is_adult(age):\n",
    "    \"\"\" Checks if someone is above 18 years, to be considered an adult \"\"\"\n",
    "    return age >= 18\n",
    "\n",
    "print(\" A 30-year-old person is an adult?\", is_adult(30))\n",
    "print(\" A 12-year-old person is an adult?\", is_adult(12))\n",
    "\n",
    "def is_odd(num):\n",
    "    \"\"\"checks is a number is odd\"\"\"\n",
    "    return (num%2 ==1)\n",
    "    \n",
    "print(\" Is 39 an odd number\", is_odd(39))\n",
    "\n",
    "print(bool(3))\n",
    "print(bool(\"Asg\"))\n",
    "print(bool(\"\"))\n",
    "print(bool(0))\n",
    "print(bool(-34))"
   ]
  },
  {
   "cell_type": "code",
   "execution_count": 30,
   "id": "dc96e77c-6158-4e23-ae0b-61115dc67b32",
   "metadata": {},
   "outputs": [
    {
     "name": "stdout",
     "output_type": "stream",
     "text": [
      "True\n",
      "False\n",
      "False\n",
      "False\n"
     ]
    }
   ],
   "source": [
    "# From Exrcise\n",
    "\n",
    "#The boolean variables ketchup, mustard and onion represent whether a customer wants a particular topping on their hot dog. \n",
    "#We want to implement a number of boolean functions that correspond to some yes-or-no questions about the customer's order\n",
    "\n",
    "def onionless(ketchup, mustard, onion):\n",
    "    \"\"\"Return whether the customer doesn't want onions.\n",
    "    \"\"\"\n",
    "    return not onion\n",
    "\n",
    "print(onionless(1,1,0))\n",
    "\n",
    "def wants_all_toppings(ketchup, mustard, onion):\n",
    "    \"\"\"Return whether the customer wants \"the works\" (all 3 toppings)\n",
    "    \"\"\"\n",
    "    return True if ketchup ==1 and mustard ==1 and onion == 1 else False\n",
    "\n",
    "print(onionless(2,3,1))\n",
    "\n",
    "def wants_plain_hotdog(ketchup, mustard, onion):\n",
    "    \"\"\"Return whether the customer wants a plain hot dog with no toppings.\n",
    "    \"\"\"\n",
    "    return True if ketchup !=1 and mustard !=1 and onion != 1 else False\n",
    "\n",
    "print(onionless(4,6,2))\n",
    "\n",
    "def exactly_one_sauce(ketchup, mustard, onion):\n",
    "    \"\"\"Return whether the customer wants either ketchup or mustard, but not both.\n",
    "    (You may be familiar with this operation under the name \"exclusive or\")\n",
    "    \"\"\"\n",
    "    return True if (ketchup==1 and mustard !=1) or (ketchup!=1 and mustard==1) else False\n",
    "\n",
    "print(onionless(2,7,4))\n"
   ]
  },
  {
   "cell_type": "code",
   "execution_count": null,
   "id": "b6f08a6b-d55c-4d59-8d07-d837afdc656e",
   "metadata": {},
   "outputs": [],
   "source": []
  },
  {
   "cell_type": "code",
   "execution_count": null,
   "id": "b4b6c97e-3ad6-459b-902c-20b01ece8718",
   "metadata": {},
   "outputs": [],
   "source": []
  },
  {
   "cell_type": "code",
   "execution_count": null,
   "id": "91f9c3c8-9b8f-4875-a455-cddd33908031",
   "metadata": {},
   "outputs": [],
   "source": []
  }
 ],
 "metadata": {
  "kernelspec": {
   "display_name": "Python 3 (ipykernel)",
   "language": "python",
   "name": "python3"
  },
  "language_info": {
   "codemirror_mode": {
    "name": "ipython",
    "version": 3
   },
   "file_extension": ".py",
   "mimetype": "text/x-python",
   "name": "python",
   "nbconvert_exporter": "python",
   "pygments_lexer": "ipython3",
   "version": "3.11.7"
  }
 },
 "nbformat": 4,
 "nbformat_minor": 5
}
